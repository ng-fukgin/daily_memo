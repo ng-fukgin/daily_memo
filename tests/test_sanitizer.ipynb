{
 "cells": [
  {
   "cell_type": "code",
   "execution_count": null,
   "metadata": {},
   "outputs": [],
   "source": [
    "from ipywidgets import *"
   ]
  },
  {
   "cell_type": "code",
   "execution_count": null,
   "metadata": {},
   "outputs": [],
   "source": [
    "Checkbox(description=\"<p><i>italic</i></p> <p><b>bold</b></p>\", description_allow_html=False)"
   ]
  },
  {
   "cell_type": "code",
   "execution_count": null,
   "metadata": {},
   "outputs": [],
   "source": [
    "Checkbox(description=\"<p><i>italic</i></p> <p><b>bold</b></p>\", description_allow_html=True)"
   ]
  },
  {
   "cell_type": "code",
   "execution_count": null,
   "metadata": {},
   "outputs": [],
   "source": [
    "Text(description=\"<style type='type/css'>SPAN {text-decoration:underline;}</style><img src='jlogo-small.png' title='àçeù' /> <span style='color: orange'>NOT styled</span>\", description_allow_html=False)"
   ]
  },
  {
   "cell_type": "code",
   "execution_count": null,
   "metadata": {},
   "outputs": [],
   "source": [
    "Text(description=\"<style type='type/css'>SPAN {text-decoration:underline;}</style><img src='jlogo-small.png' title='àçeù' /> <span style='color: orange'>styled</span>\", description_allow_html=True)"
   ]
  },
  {
   "cell_type": "code",
   "execution_count": null,
   "metadata": {},
   "outputs": [],
   "source": [
    "Textarea(description=\"<style type='type/css'>SPAN {color: blue;}</style><img src='jlogo-small.png' title='àçeù' /> <span style='text-decoration:underline;''>underlined</span>\", description_allow_html=True)"
   ]
  },
  {
   "cell_type": "code",
   "execution_count": null,
   "metadata": {},
   "outputs": [],
   "source": [
    "VBox((Text(description=\"<strong>$ y < a, x $</strong>\", allow_html=True),\n",
    "      Text(description=\"$ <strong>y < a, x</strong>  $\", description_allow_html=True)\n",
    "     ))"
   ]
  },
  {
   "cell_type": "code",
   "execution_count": null,
   "metadata": {},
   "outputs": [],
   "source": [
    "VBox((Label(\"$ y < a, x > a$\"), HTMLMath(\"<strong>$ y < a, x > a$</strong>\")))"
   ]
  }
 ],
 "metadata": {
  "kernelspec": {
   "display_name": "Python 3",
   "language": "python",
   "name": "python3"
  },
  "language_info": {
   "codemirror_mode": {
    "name": "ipython",
    "version": 3
   },
   "file_extension": ".py",
   "mimetype": "text/x-python",
   "name": "python",
   "nbconvert_exporter": "python",
   "pygments_lexer": "ipython3",
   "version": "3.8.1"
  }
 },
 "nbformat": 4,
 "nbformat_minor": 4
}
