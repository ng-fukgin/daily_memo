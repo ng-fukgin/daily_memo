{
 "cells": [
  {
   "cell_type": "code",
   "execution_count": null,
   "metadata": {},
   "outputs": [],
   "source": [
    "from ipywidgets import *"
   ]
  },
  {
   "cell_type": "code",
   "execution_count": null,
   "metadata": {},
   "outputs": [],
   "source": [
    "t1 = Text(\"text input\", layout=Layout(\n",
    "    width=\"80px\", border=\"1px dashed red\"\n",
    "))\n",
    "b1 = Button(description=\"button\")\n",
    "HBox((t1,b1))"
   ]
  },
  {
   "cell_type": "code",
   "execution_count": null,
   "metadata": {},
   "outputs": [],
   "source": [
    "b1.layout.border = \"2px solid yellow\"\n",
    "t1.layout.border_left = \"5px dotted blue\"\n",
    "b1.layout.border_right = \"2px dotted blue\""
   ]
  },
  {
   "cell_type": "code",
   "execution_count": null,
   "metadata": {},
   "outputs": [],
   "source": [
    "t2 = Text(\"text input\")\n",
    "b2 = ToggleButton(description=\"toggle button\", layout=Layout(\n",
    "    width=\"200px\", border_left=\"2px solid yellow\"\n",
    "))\n",
    "HBox((t2,b2))"
   ]
  },
  {
   "cell_type": "code",
   "execution_count": null,
   "metadata": {},
   "outputs": [],
   "source": [
    "t2.layout.border_left = \"5px dotted blue\"\n",
    "b2.layout.border_right = \"2px dotted blue\"\n",
    "t2.layout.border = \"1px dashed red\""
   ]
  },
  {
   "cell_type": "code",
   "execution_count": null,
   "metadata": {},
   "outputs": [],
   "source": [
    "t1.layout.border_top = \"5px solid green\"\n",
    "b1.layout.border = \"1px solid purple\"\n",
    "t2.layout.border_right = \"5px double skyblue\""
   ]
  },
  {
   "cell_type": "code",
   "execution_count": null,
   "metadata": {},
   "outputs": [],
   "source": [
    "t2.layout.border_right = None"
   ]
  }
 ],
 "metadata": {
  "kernelspec": {
   "display_name": "Python 3",
   "language": "python",
   "name": "python3"
  },
  "language_info": {
   "codemirror_mode": {
    "name": "ipython",
    "version": 3
   },
   "file_extension": ".py",
   "mimetype": "text/x-python",
   "name": "python",
   "nbconvert_exporter": "python",
   "pygments_lexer": "ipython3",
   "version": "3.7.3"
  }
 },
 "nbformat": 4,
 "nbformat_minor": 2
}
